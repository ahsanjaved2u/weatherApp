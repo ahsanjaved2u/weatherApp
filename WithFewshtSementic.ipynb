{
 "cells": [
  {
   "cell_type": "code",
   "execution_count": 13,
   "metadata": {},
   "outputs": [],
   "source": [
    "#Imports\n",
    "from langchain_core.prompts import FewShotPromptTemplate, PromptTemplate\n",
    "from langchain.chains import GraphCypherQAChain\n",
    "from langchain_groq import ChatGroq\n",
    "from langchain_community.graphs import Neo4jGraph\n",
    "from langchain_core.example_selectors import SemanticSimilarityExampleSelector\n",
    "from langchain_huggingface import HuggingFaceEmbeddings\n",
    "from langchain_groq import ChatGroq\n",
    "from langchain_community.vectorstores import Neo4jVector\n",
    "from langchain_core.example_selectors import SemanticSimilarityExampleSelector\n",
    "\n",
    "import os\n",
    "\n"
   ]
  },
  {
   "cell_type": "code",
   "execution_count": 14,
   "metadata": {},
   "outputs": [],
   "source": [
    "NEO4J_URI = os.getenv('NEO4J_URI')\n",
    "NEO4J_USERNAME = os.getenv('NEO4J_USERNAME')\n",
    "NEO4J_PASSWORD = os.getenv('NEO4J_PASSWORD')\n",
    "GROQ_API_KEY = os.getenv('GROQ_API_KEY')\n",
    "graph = Neo4jGraph(url =NEO4J_URI, username=NEO4J_USERNAME, password=NEO4J_PASSWORD)"
   ]
  },
  {
   "cell_type": "code",
   "execution_count": 15,
   "metadata": {},
   "outputs": [
    {
     "name": "stdout",
     "output_type": "stream",
     "text": [
      "Node properties:\n",
      "Year {year: INTEGER}\n",
      "Month {name: STRING, Rain: FLOAT, month: INTEGER, AF: FLOAT, Tmax: FLOAT, Tmin: FLOAT, Tmean: FLOAT, Sun: FLOAT, Date: DATE}\n",
      "Relationship properties:\n",
      "\n",
      "The relationships:\n",
      "(:Year)-[:HAS_MONTH]->(:Month)\n"
     ]
    }
   ],
   "source": [
    "graph.refresh_schema()\n",
    "schema = graph.schema\n",
    "print(schema)"
   ]
  },
  {
   "cell_type": "code",
   "execution_count": 16,
   "metadata": {},
   "outputs": [],
   "source": [
    "llm = ChatGroq(\n",
    "    model = \"llama-3.1-70b-versatile\",\n",
    "    temperature = 0,\n",
    "    max_tokens = 2000\n",
    ")"
   ]
  },
  {
   "cell_type": "code",
   "execution_count": 34,
   "metadata": {},
   "outputs": [
    {
     "name": "stderr",
     "output_type": "stream",
     "text": [
      "Received notification from DBMS server: {severity: WARNING} {code: Neo.ClientNotification.Statement.FeatureDeprecationWarning} {category: DEPRECATION} {title: This feature is deprecated and will be removed in future versions.} {description: CALL subquery without a variable scope clause is now deprecated. Use CALL (row) { ... }} {position: line: 1, column: 21, offset: 20} for query: \"UNWIND $data AS row CALL { WITH row MERGE (c:`Chunk` {id: row.id}) WITH c, row CALL db.create.setNodeVectorProperty(c, 'embedding', row.embedding) SET c.`text` = row.text SET c += row.metadata } IN TRANSACTIONS OF 1000 ROWS \"\n"
     ]
    }
   ],
   "source": [
    "examples = [\n",
    "    {\n",
    "        \"question\": \"Get all weather data for a specific year\",\n",
    "        \"query\": \"\"\"MATCH (y:Year {{year:1963}})-[:HAS_MONTH]->(m:Month) \n",
    "        RETURN m.name AS Month, m.Tmax AS MaxTemperature, m.Tmin AS MinTemperature,\n",
    "        m.Rain AS Rainfall, m.Sun AS Sunlight, m.Tmean AS MeanTemperature\n",
    "        ORDER BY m.month\"\"\",\n",
    "    },\n",
    "    {\n",
    "        \"question\": \"what was average temperature in between 1980 and 1990\",\n",
    "        \"query\": \"\"\"MATCH (y:Year)-[:HAS_MONTH]->(m:Month)\n",
    "                    WHERE y.year >= 1980 AND y.year <= 1990\n",
    "                    RETURN AVG(m.Rain) AS average_rainfall\"\"\",\n",
    "    },\n",
    "     {\n",
    "        \"question\": \"what was the most rainy year?\",\n",
    "        \"query\": \"\"\"MATCH (y:Year)-[:HAS_MONTH]->(m:Month)\n",
    "        WITH y.year AS year, AVG(m.Rain) AS avg_rain\n",
    "        RETURN year, avg_rain\n",
    "        ORDER BY avg_rain DESC\n",
    "        LIMIT 1\"\"\",\n",
    "    },\n",
    "    {\n",
    "        \"question\": \"In which year we had maximum temperature in may?\",\n",
    "        \"query\": \"\"\"MATCH (y:Year)-[:HAS_MONTH]->(m:Month)\n",
    "        WHERE m.month = 5\n",
    "        WITH y.year AS year, MAX(m.Tmax) AS max_temp\n",
    "        RETURN year, max_temp\n",
    "        ORDER BY max_temp DESC\n",
    "        LIMIT 1\"\"\",\n",
    "    },\n",
    "\n",
    "]\n",
    "\n",
    "embeddings = HuggingFaceEmbeddings(model_name=\"all-MiniLM-L6-v2\")\n",
    "\n",
    "example_selector = SemanticSimilarityExampleSelector.from_examples(\n",
    "    examples,\n",
    "    embeddings,\n",
    "    Neo4jVector,\n",
    "    k=2,\n",
    "    input_keys=[\"question\"],\n",
    ")\n",
    "\n"
   ]
  },
  {
   "cell_type": "code",
   "execution_count": 35,
   "metadata": {},
   "outputs": [],
   "source": [
    "example_prompt = PromptTemplate.from_template(\n",
    "    \"User input: {question}\\nquery: {query}\"\n",
    ")\n",
    "\n",
    "prompt = FewShotPromptTemplate(\n",
    "    example_selector=example_selector,\n",
    "    example_prompt=example_prompt,\n",
    "    prefix=\n",
    "    \"\"\"\n",
    "    You are a Neo4j expert. Given an input question, create a syntactically correct Cypher query to run.Here is the schema information \\nn{schema}.\n",
    "  \n",
    "    \n",
    "    Task:\n",
    "        You are provided with a natural language query. Your goal is to:\n",
    "        Understand the user's intent: Identify what the user is asking for, such as retrieving data, finding averages, or comparing values, average between to given dates or months or years\n",
    "        Generate an appropriate Cypher query: Based on the graph structure and properties provided above, translate the user's natural language query into a Cypher query.\n",
    "        Return the Cypher query: Ensure the query is correctly formatted and accounts for all relevant properties.\n",
    "\n",
    "        Use logical operators like >= and <= for filtering node for between specific years, months or dtaes.DO NOT use range() for this\n",
    "        WHERE clauses should be used for property value comparisons\n",
    "\n",
    "        \n",
    "        Given a natural language query, generate a Cypher query that accurately reflects the user's request,\n",
    "        ensuring that any specific year mentioned in the query is directly translated into the Cypher query. For instance, \n",
    "        if the user asks for data from 1991 or in 1991, the Cypher query should explicitly reference the year 1991 in the `MATCH` statement.\n",
    "        if the user asks for data from january or in january or any other month, the Cypher query should explicitly reference the month anuary or month 1 in the `MATCH` statement.\n",
    "        ALways give answer obtained from data and never give any suggestion or interpretation  \n",
    "\n",
    "        Below are a number of examples of questions and their corresponding Cypher queries.\",\n",
    "    \"\"\",\n",
    "    suffix=\"User input: {question}\\nquery: \",\n",
    "    input_variables=[\"question\", \"schema\"],\n",
    ")"
   ]
  },
  {
   "cell_type": "code",
   "execution_count": 37,
   "metadata": {},
   "outputs": [
    {
     "name": "stdout",
     "output_type": "stream",
     "text": [
      "\n",
      "    You are a Neo4j expert. Given an input question, create a syntactically correct Cypher query to run.Here is the schema information \n",
      "nNode properties:\n",
      "Year {year: INTEGER}\n",
      "Month {name: STRING, Rain: FLOAT, month: INTEGER, AF: FLOAT, Tmax: FLOAT, Tmin: FLOAT, Tmean: FLOAT, Sun: FLOAT, Date: DATE}\n",
      "Relationship properties:\n",
      "\n",
      "The relationships:\n",
      "(:Year)-[:HAS_MONTH]->(:Month).\n",
      "  \n",
      "    \n",
      "    Task:\n",
      "        You are provided with a natural language query. Your goal is to:\n",
      "        Understand the user's intent: Identify what the user is asking for, such as retrieving data, finding averages, or comparing values, average between to given dates or months or years\n",
      "        Generate an appropriate Cypher query: Based on the graph structure and properties provided above, translate the user's natural language query into a Cypher query.\n",
      "        Return the Cypher query: Ensure the query is correctly formatted and accounts for all relevant properties.\n",
      "\n",
      "        Use logical operators like >= and <= for filtering node for between specific years, months or dtaes.DO NOT use range() for this\n",
      "        WHERE clauses should be used for property value comparisons\n",
      "\n",
      "        \n",
      "        Given a natural language query, generate a Cypher query that accurately reflects the user's request,\n",
      "        ensuring that any specific year mentioned in the query is directly translated into the Cypher query. For instance, \n",
      "        if the user asks for data from 1991 or in 1991, the Cypher query should explicitly reference the year 1991 in the `MATCH` statement.\n",
      "        if the user asks for data from january or in january or any other month, the Cypher query should explicitly reference the month anuary or month 1 in the `MATCH` statement.\n",
      "        ALways give answer obtained from data and never give any suggestion or interpretation  \n",
      "\n",
      "        Below are a number of examples of questions and their corresponding Cypher queries.\",\n",
      "    \n",
      "\n",
      "User input: what was the most rainy year?\n",
      "query: MATCH (y:Year)-[:HAS_MONTH]->(m:Month)\n",
      "        WITH y.year AS year, AVG(m.Rain) AS avg_rain\n",
      "        RETURN year, avg_rain\n",
      "        ORDER BY avg_rain DESC\n",
      "        LIMIT 1\n",
      "\n",
      "User input: In which year we had maximum temperature in may?\n",
      "query: MATCH (y:Year)-[:HAS_MONTH]->(m:Month)\n",
      "        WHERE m.month = 5\n",
      "        WITH y.year AS year, MAX(m.Tmax) AS max_temp\n",
      "        RETURN year, max_temp\n",
      "        ORDER BY max_temp DESC\n",
      "        LIMIT 1\n",
      "\n",
      "User input: which year had maximum rain in december\n",
      "query: \n"
     ]
    }
   ],
   "source": [
    "print(prompt.format(question=\"which year had maximum rain in december\", schema= schema))"
   ]
  },
  {
   "cell_type": "code",
   "execution_count": 38,
   "metadata": {},
   "outputs": [],
   "source": [
    "chain = GraphCypherQAChain.from_llm(\n",
    "    graph=graph, llm=llm, cypher_prompt=prompt, verbose=True\n",
    ")"
   ]
  },
  {
   "cell_type": "code",
   "execution_count": 39,
   "metadata": {},
   "outputs": [
    {
     "name": "stdout",
     "output_type": "stream",
     "text": [
      "\n",
      "\n",
      "\u001b[1m> Entering new GraphCypherQAChain chain...\u001b[0m\n",
      "Generated Cypher:\n",
      "\u001b[32;1m\u001b[1;3mMATCH (y:Year)-[:HAS_MONTH]->(m:Month)\n",
      "        WHERE m.month = 12\n",
      "        WITH y.year AS year, MAX(m.Rain) AS max_rain\n",
      "        RETURN year, max_rain\n",
      "        ORDER BY max_rain DESC\n",
      "        LIMIT 1\u001b[0m\n",
      "Full Context:\n",
      "\u001b[32;1m\u001b[1;3m[{'year': 2023, 'max_rain': 170.4}]\u001b[0m\n",
      "\n",
      "\u001b[1m> Finished chain.\u001b[0m\n",
      "{'query': 'which year had maximum rain in december?', 'result': 'The year with the maximum rain is 2023.'}\n"
     ]
    }
   ],
   "source": [
    "result = chain.invoke({\"query\":\"which year had maximum rain in december?\"})\n",
    "print(result)"
   ]
  },
  {
   "cell_type": "code",
   "execution_count": null,
   "metadata": {},
   "outputs": [],
   "source": []
  },
  {
   "cell_type": "code",
   "execution_count": null,
   "metadata": {},
   "outputs": [],
   "source": []
  },
  {
   "cell_type": "markdown",
   "metadata": {},
   "source": [
    "from langchain_core.prompts import ChatPromptTemplate\n",
    "system_message = \"\"\"\n",
    "\n",
    "You are interacting with a Neo4j graph database containing weather data structured as follows:\n",
    "\n",
    "Graph Structure:\n",
    "        Year Node (Year)\n",
    "        Properties:\n",
    "        year (Integer): \n",
    "\n",
    "        Month Node (Month)\n",
    "        Properties:\n",
    "        month (Integer): The numeric representation of the month (1 = January, 2 = February, ..., 12 = December).\n",
    "        name (String): The name of the month (e.g., \"January\", \"February\").\n",
    "        Tmax (Float): Maximum temperature recorded in the month.\n",
    "        Tmin (Float): Minimum temperature recorded in the month.\n",
    "        AF (Float): Number of air frosts in the month.\n",
    "        Rain (Float): Rainfall recorded in millimeters.\n",
    "        Sun (Float): Sunlight recorded in hours.\n",
    "        Tmean (Float): Mean temperature in the month.\n",
    "        Date (Date): Date representation (e.g., \"1963-01-01\").\n",
    "\n",
    "        Relationships:\n",
    "        HAS_MONTH: Connects Year nodes to their respective Month nodes.\n",
    "\n",
    "Task:\n",
    "        You are provided with a natural language query. Your goal is to:\n",
    "        Understand the user's intent: Identify what the user is asking for, such as retrieving data, finding averages, or comparing values, average between to given dates or months or years\n",
    "        Generate an appropriate Cypher query: Based on the graph structure and properties provided above, translate the user's natural language query into a Cypher query.\n",
    "        Return the Cypher query: Ensure the query is correctly formatted and accounts for all relevant properties.\n",
    "\n",
    "        Use logical operators like >= and <= for filtering node for between specific years, months or dtaes.DO NOT use range() for this\n",
    "        WHERE clauses should be used for property value comparisons \n",
    "        \n",
    "\n",
    "\n",
    "Examples of Natural Language Queries:\n",
    "        \"What was the average temperature in a given year on month?\"\n",
    "        \"Show me the month with the most rainfall in given year.\"\n",
    "        \"Get all the weather data for January across all years.\"\n",
    "        \"Which year had the highest average temperature in July?\"\n",
    "        \"what was the average temperature between two years or months or dates\"\n",
    "        \"what was the maximum temperature between two years or months or dates\"\n",
    "\n",
    "Given a natural language query, generate a Cypher query that accurately reflects the user's request,\n",
    "ensuring that any specific year mentioned in the query is directly translated into the Cypher query. For instance, \n",
    "if the user asks for data from 1991 or in 1991, the Cypher query should explicitly reference the year 1991 in the `MATCH` statement.\n",
    "if the user asks for data from january or in january or any other month, the Cypher query should explicitly reference the month anuary or month 1 in the `MATCH` statement.\n",
    "ALways give answer obtained from data and never give any suggestion or interpretation\n",
    "\n",
    "User question: {query}\n",
    "\n",
    "\n",
    "\"\"\"\n",
    "\n",
    "prompt = ChatPromptTemplate.from_template(system_message)"
   ]
  }
 ],
 "metadata": {
  "kernelspec": {
   "display_name": "myenv",
   "language": "python",
   "name": "python3"
  },
  "language_info": {
   "codemirror_mode": {
    "name": "ipython",
    "version": 3
   },
   "file_extension": ".py",
   "mimetype": "text/x-python",
   "name": "python",
   "nbconvert_exporter": "python",
   "pygments_lexer": "ipython3",
   "version": "3.11.9"
  }
 },
 "nbformat": 4,
 "nbformat_minor": 2
}
